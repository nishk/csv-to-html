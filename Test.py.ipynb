{
 "cells": [
  {
   "cell_type": "code",
   "execution_count": 185,
   "metadata": {},
   "outputs": [
    {
     "name": "stdout",
     "output_type": "stream",
     "text": [
      "/Users/anishkirloskar/Csv-To-Python\n",
      "['t(s) ', ' Samples ', '    C0 ', '    C3 ', '    C6 ', '    PC2 ', '    PC3 ', '    PC6 ', ' PKG(W) ', ' DRAM_PWR(W) ', ' PST_UNC ', ' PMAX_LOG ', '  PMAX_STAT ', '   PST_0 ', '   PST_1 ', '   PST_2 ', '   PST_3 ', '   PST_4 ', '   PST_5 ', '   PST_6 ', '   PST_7 ', '   PST_8 ', '   PST_9 ', '  PST_10 ', '  PST_11 ', '  PST_12 ', '  PST_13 ', '  PST_14 ', '  PST_15 ', '  PST_16 ', '  PST_17 ', '  PST_18 ', '  PST_19 ', '  PST_20 ', '  PST_21 ', '  PST_22 ', '  PST_23 ', '  PST_24 ', '  PST_25 ', '  PST_26 ', '  PST_27 ', ' PST_MEAN ', ' PST_ACT_MEAN ', ' Ext_Prochot/101 ', ' INT_Prochot/105 ', ' DTS_TMP(C) ', ' DTS2.0_MARGIN(C) ', '      Core_license_request ', '       Core_license_target ', '          VDDQ_total_power ', ' ANY_LOG ', ' N_CORE_TURBO_LOG ', ' NON_TURBO_LOG ', ' MCT_LOG ', ' DFX_UNPROTECTED_LOG ', ' EDP_LOG ', ' AVX_LOG ', ' HOT_VR_LOG ', ' CR_ME_COMM_FAIL_LOG ', ' PCS_LOG ', ' PBM_LOG ', ' EMTTM_LOG ', ' EXT_PROCHOT_LOG ', '  ANY ', ' N_CORE_TURBO ', ' NON_TURBO ', '  MCT ', ' DFX_UNPROTECTED ', '  EDP ', '  AVX ', ' HOT_VR ', ' CR_ME_COMM_FAIL ', '  PCS ', '  PBM ', ' EMTTM ', ' EXT_PROCHOT ', ' DCU_Pcode_Variable ', ' MLC_Pcode_Variable ', ' LLC_Pcode_Variable ', ' SQ_Pcode_Variable ', ' C0_Pcode_Variable ', ' Sum_of_C0+Stalls ', ' Stall_count_address ', ' EET_Scalability ', ' CPU_stall_count ', ' Time_window ', '  EET_Scalability_bin_avg ', ' Core_epb_policy ', ' EET_Core_freq_scale ', '   eet_scalability_min_offset ', '   OS_requested_Pstate_0 ', '   OS_requested_Pstate_1 ', '   OS_requested_Pstate_2 ', '   OS_requested_Pstate_3 ', '   OS_requested_Pstate_4 ', '   OS_requested_Pstate_5 ', '   OS_requested_Pstate_6 ', '   OS_requested_Pstate_7 ', '   OS_requested_Pstate_8 ', '   OS_requested_Pstate_9 ', '  OS_requested_Pstate_10 ', '  OS_requested_Pstate_11 ', '  OS_requested_Pstate_12 ', '  OS_requested_Pstate_13 ', '  OS_requested_Pstate_14 ', '  OS_requested_Pstate_15 ', '  OS_requested_Pstate_16 ', '  OS_requested_Pstate_17 ', '  OS_requested_Pstate_18 ', '  OS_requested_Pstate_19 ', '  OS_requested_Pstate_20 ', '  OS_requested_Pstate_21 ', '  OS_requested_Pstate_22 ', '  OS_requested_Pstate_23 ', '  OS_requested_Pstate_24 ', '  OS_requested_Pstate_25 ', '  OS_requested_Pstate_26 ', '  OS_requested_Pstate_27 ', '    C0 .1', '    C3 .1', '    C6 .1', '    PC2 .1', '    PC3 .1', '    PC6 .1', ' PKG(W) .1', ' DRAM_PWR(W) .1', ' PST_UNC .1', ' PMAX_LOG .1', '  PMAX_STAT .1', '   PST_0 .1', '   PST_1 .1', '   PST_2 .1', '   PST_3 .1', '   PST_4 .1', '   PST_5 .1', '   PST_6 .1', '   PST_7 .1', '   PST_8 .1', '   PST_9 .1', '  PST_10 .1', '  PST_11 .1', '  PST_12 .1', '  PST_13 .1', '  PST_14 .1', '  PST_15 .1', '  PST_16 .1', '  PST_17 .1', '  PST_18 .1', '  PST_19 .1', '  PST_20 .1', '  PST_21 .1', '  PST_22 .1', '  PST_23 .1', '  PST_24 .1', '  PST_25 .1', '  PST_26 .1', '  PST_27 .1', ' PST_MEAN .1', ' PST_ACT_MEAN .1', ' Ext_Prochot/101 .1', ' INT_Prochot/105 .1', ' DTS_TMP(C) .1', ' DTS2.0_MARGIN(C) .1', '      Core_license_request .1', '       Core_license_target .1', '          VDDQ_total_power .1', ' ANY_LOG .1', ' N_CORE_TURBO_LOG .1', ' NON_TURBO_LOG .1', ' MCT_LOG .1', ' DFX_UNPROTECTED_LOG .1', ' EDP_LOG .1', ' AVX_LOG .1', ' HOT_VR_LOG .1', ' CR_ME_COMM_FAIL_LOG .1', ' PCS_LOG .1', ' PBM_LOG .1', ' EMTTM_LOG .1', ' EXT_PROCHOT_LOG .1', '  ANY .1', ' N_CORE_TURBO .1', ' NON_TURBO .1', '  MCT .1', ' DFX_UNPROTECTED .1', '  EDP .1', '  AVX .1', ' HOT_VR .1', ' CR_ME_COMM_FAIL .1', '  PCS .1', '  PBM .1', ' EMTTM .1', ' EXT_PROCHOT .1', ' DCU_Pcode_Variable .1', ' MLC_Pcode_Variable .1', ' LLC_Pcode_Variable .1', ' SQ_Pcode_Variable .1', ' C0_Pcode_Variable .1', ' Sum_of_C0+Stalls .1', ' Stall_count_address .1', ' EET_Scalability .1', ' CPU_stall_count .1', ' Time_window .1', '  EET_Scalability_bin_avg .1', ' Core_epb_policy .1', ' EET_Core_freq_scale .1', '   eet_scalability_min_offset .1', '   OS_requested_Pstate_0 .1', '   OS_requested_Pstate_1 .1', '   OS_requested_Pstate_2 .1', '   OS_requested_Pstate_3 .1', '   OS_requested_Pstate_4 .1', '   OS_requested_Pstate_5 .1', '   OS_requested_Pstate_6 .1', '   OS_requested_Pstate_7 .1', '   OS_requested_Pstate_8 .1', '   OS_requested_Pstate_9 .1', '  OS_requested_Pstate_10 .1', '  OS_requested_Pstate_11 .1', '  OS_requested_Pstate_12 .1', '  OS_requested_Pstate_13 .1', '  OS_requested_Pstate_14 .1', '  OS_requested_Pstate_15 .1', '  OS_requested_Pstate_16 .1', '  OS_requested_Pstate_17 .1', '  OS_requested_Pstate_18 .1', '  OS_requested_Pstate_19 .1', '  OS_requested_Pstate_20 .1', '  OS_requested_Pstate_21 .1', '  OS_requested_Pstate_22 .1', '  OS_requested_Pstate_23 .1', '  OS_requested_Pstate_24 .1', '  OS_requested_Pstate_25 .1', '  OS_requested_Pstate_26 .1', '  OS_requested_Pstate_27 .1', '    C0 .2', '    C3 .2', '    C6 .2', '    PC2 .2', '    PC3 .2', '    PC6 .2', ' PKG(W) .2', ' DRAM_PWR(W) .2', ' PST_UNC .2', ' PMAX_LOG .2', '  PMAX_STAT .2', '   PST_0 .2', '   PST_1 .2', '   PST_2 .2', '   PST_3 .2', '   PST_4 .2', '   PST_5 .2', '   PST_6 .2', '   PST_7 .2', '   PST_8 .2', '   PST_9 .2', '  PST_10 .2', '  PST_11 .2', '  PST_12 .2', '  PST_13 .2', '  PST_14 .2', '  PST_15 .2', '  PST_16 .2', '  PST_17 .2', '  PST_18 .2', '  PST_19 .2', '  PST_20 .2', '  PST_21 .2', '  PST_22 .2', '  PST_23 .2', '  PST_24 .2', '  PST_25 .2', '  PST_26 .2', '  PST_27 .2', ' PST_MEAN .2', ' PST_ACT_MEAN .2', ' Ext_Prochot/101 .2', ' INT_Prochot/105 .2', ' DTS_TMP(C) .2', ' DTS2.0_MARGIN(C) .2', '      Core_license_request .2', '       Core_license_target .2', '          VDDQ_total_power .2', ' ANY_LOG .2', ' N_CORE_TURBO_LOG .2', ' NON_TURBO_LOG .2', ' MCT_LOG .2', ' DFX_UNPROTECTED_LOG .2', ' EDP_LOG .2', ' AVX_LOG .2', ' HOT_VR_LOG .2', ' CR_ME_COMM_FAIL_LOG .2', ' PCS_LOG .2', ' PBM_LOG .2', ' EMTTM_LOG .2', ' EXT_PROCHOT_LOG .2', '  ANY .2', ' N_CORE_TURBO .2', ' NON_TURBO .2', '  MCT .2', ' DFX_UNPROTECTED .2', '  EDP .2', '  AVX .2', ' HOT_VR .2', ' CR_ME_COMM_FAIL .2', '  PCS .2', '  PBM .2', ' EMTTM .2', ' EXT_PROCHOT .2', ' DCU_Pcode_Variable .2', ' MLC_Pcode_Variable .2', ' LLC_Pcode_Variable .2', ' SQ_Pcode_Variable .2', ' C0_Pcode_Variable .2', ' Sum_of_C0+Stalls .2', ' Stall_count_address .2', ' EET_Scalability .2', ' CPU_stall_count .2', ' Time_window .2', '  EET_Scalability_bin_avg .2', ' Core_epb_policy .2', ' EET_Core_freq_scale .2', '   eet_scalability_min_offset .2', '   OS_requested_Pstate_0 .2', '   OS_requested_Pstate_1 .2', '   OS_requested_Pstate_2 .2', '   OS_requested_Pstate_3 .2', '   OS_requested_Pstate_4 .2', '   OS_requested_Pstate_5 .2', '   OS_requested_Pstate_6 .2', '   OS_requested_Pstate_7 .2', '   OS_requested_Pstate_8 .2', '   OS_requested_Pstate_9 .2', '  OS_requested_Pstate_10 .2', '  OS_requested_Pstate_11 .2', '  OS_requested_Pstate_12 .2', '  OS_requested_Pstate_13 .2', '  OS_requested_Pstate_14 .2', '  OS_requested_Pstate_15 .2', '  OS_requested_Pstate_16 .2', '  OS_requested_Pstate_17 .2', '  OS_requested_Pstate_18 .2', '  OS_requested_Pstate_19 .2', '  OS_requested_Pstate_20 .2', '  OS_requested_Pstate_21 .2', '  OS_requested_Pstate_22 .2', '  OS_requested_Pstate_23 .2', '  OS_requested_Pstate_24 .2', '  OS_requested_Pstate_25 .2', '  OS_requested_Pstate_26 .2', '  OS_requested_Pstate_27 .2', '    C0 .3', '    C3 .3', '    C6 .3', '    PC2 .3', '    PC3 .3', '    PC6 .3', ' PKG(W) .3', ' DRAM_PWR(W) .3', ' PST_UNC .3', ' PMAX_LOG .3', '  PMAX_STAT .3', '   PST_0 .3', '   PST_1 .3', '   PST_2 .3', '   PST_3 .3', '   PST_4 .3', '   PST_5 .3', '   PST_6 .3', '   PST_7 .3', '   PST_8 .3', '   PST_9 .3', '  PST_10 .3', '  PST_11 .3', '  PST_12 .3', '  PST_13 .3', '  PST_14 .3', '  PST_15 .3', '  PST_16 .3', '  PST_17 .3', '  PST_18 .3', '  PST_19 .3', '  PST_20 .3', '  PST_21 .3', '  PST_22 .3', '  PST_23 .3', '  PST_24 .3', '  PST_25 .3', '  PST_26 .3', '  PST_27 .3', ' PST_MEAN .3', ' PST_ACT_MEAN .3', ' Ext_Prochot/101 .3', ' INT_Prochot/105 .3', ' DTS_TMP(C) .3', ' DTS2.0_MARGIN(C) .3', '      Core_license_request .3', '       Core_license_target .3', '          VDDQ_total_power .3', ' ANY_LOG .3', ' N_CORE_TURBO_LOG .3', ' NON_TURBO_LOG .3', ' MCT_LOG .3', ' DFX_UNPROTECTED_LOG .3', ' EDP_LOG .3', ' AVX_LOG .3', ' HOT_VR_LOG .3', ' CR_ME_COMM_FAIL_LOG .3', ' PCS_LOG .3', ' PBM_LOG .3', ' EMTTM_LOG .3', ' EXT_PROCHOT_LOG .3', '  ANY .3', ' N_CORE_TURBO .3', ' NON_TURBO .3', '  MCT .3', ' DFX_UNPROTECTED .3', '  EDP .3', '  AVX .3', ' HOT_VR .3', ' CR_ME_COMM_FAIL .3', '  PCS .3', '  PBM .3', ' EMTTM .3', ' EXT_PROCHOT .3', ' DCU_Pcode_Variable .3', ' MLC_Pcode_Variable .3', ' LLC_Pcode_Variable .3', ' SQ_Pcode_Variable .3', ' C0_Pcode_Variable .3', ' Sum_of_C0+Stalls .3', ' Stall_count_address .3', ' EET_Scalability .3', ' CPU_stall_count .3', ' Time_window .3', '  EET_Scalability_bin_avg .3', ' Core_epb_policy .3', ' EET_Core_freq_scale .3', '   eet_scalability_min_offset .3', '   OS_requested_Pstate_0 .3', '   OS_requested_Pstate_1 .3', '   OS_requested_Pstate_2 .3', '   OS_requested_Pstate_3 .3', '   OS_requested_Pstate_4 .3', '   OS_requested_Pstate_5 .3', '   OS_requested_Pstate_6 .3', '   OS_requested_Pstate_7 .3', '   OS_requested_Pstate_8 .3', '   OS_requested_Pstate_9 .3', '  OS_requested_Pstate_10 .3', '  OS_requested_Pstate_11 .3', '  OS_requested_Pstate_12 .3', '  OS_requested_Pstate_13 .3', '  OS_requested_Pstate_14 .3', '  OS_requested_Pstate_15 .3', '  OS_requested_Pstate_16 .3', '  OS_requested_Pstate_17 .3', '  OS_requested_Pstate_18 .3', '  OS_requested_Pstate_19 .3', '  OS_requested_Pstate_20 .3', '  OS_requested_Pstate_21 .3', '  OS_requested_Pstate_22 .3', '  OS_requested_Pstate_23 .3', '  OS_requested_Pstate_24 .3', '  OS_requested_Pstate_25 .3', '  OS_requested_Pstate_26 .3', '  OS_requested_Pstate_27 .3', 'Unnamed: 466']\n"
     ]
    }
   ],
   "source": [
    "import os\n",
    "import pandas as pd\n",
    "import numpy as np\n",
    "\n",
    "\n",
    "def strip_non_ascii(string):\n",
    "    #Returns the string without non ASCII characters\n",
    "    stripped = (c for c in string if 0 < ord(c) < 127)\n",
    "    return ''.join(stripped)\n",
    "\n",
    "#Get current working directory\n",
    "_Current_working_Dir = os.getcwd()\n",
    "\n",
    "print _Current_working_Dir\n",
    "\n",
    "df = pd.read_csv(\"Linpack_AVX512_Iter=0_power_top.log\", skiprows=9, sep='|')\n",
    "df.head(5)\n",
    "\n",
    "index = df.index\n",
    "columns = df.columns.str.strip().astype(str)\n",
    "#columns =columns.astype(str).values\n",
    "#Convert columns from unicode to string\n",
    "\n",
    "values = df.values\n",
    "#print(columns)\n",
    "#print(index)\n",
    "\n",
    "columns_1=['t(s)', 'Samples', 'C0', 'C3']\n",
    "#df.drop(columns_1, axis=1)\n",
    "\n",
    "#df.columns = [strip_non_ascii(x) for x in df.columns]\n",
    "features_new= [str(x) for x in df.columns]\n",
    "print features_new\n"
   ]
  },
  {
   "cell_type": "code",
   "execution_count": 155,
   "metadata": {},
   "outputs": [],
   "source": [
    "#df.drop(df.columns[[]], axis=1)"
   ]
  },
  {
   "cell_type": "code",
   "execution_count": 174,
   "metadata": {},
   "outputs": [],
   "source": [
    "#df.drop('Samples', axis=1, inplace=True)\n"
   ]
  },
  {
   "cell_type": "code",
   "execution_count": 172,
   "metadata": {},
   "outputs": [],
   "source": [
    "#df.drop(['t(s)'], 1, inplace=True)"
   ]
  },
  {
   "cell_type": "code",
   "execution_count": 181,
   "metadata": {},
   "outputs": [
    {
     "data": {
      "text/plain": [
       "Index([u't(s) ', u' Samples ', u'    C0 ', u'    C3 ', u'    C6 ', u'    PC2 ',\n",
       "       u'    PC3 ', u'    PC6 ', u' PKG(W) ', u' DRAM_PWR(W) ',\n",
       "       ...\n",
       "       u'  OS_requested_Pstate_19 .3', u'  OS_requested_Pstate_20 .3',\n",
       "       u'  OS_requested_Pstate_21 .3', u'  OS_requested_Pstate_22 .3',\n",
       "       u'  OS_requested_Pstate_23 .3', u'  OS_requested_Pstate_24 .3',\n",
       "       u'  OS_requested_Pstate_25 .3', u'  OS_requested_Pstate_26 .3',\n",
       "       u'  OS_requested_Pstate_27 .3', u'Unnamed: 466'],\n",
       "      dtype='object', length=467)"
      ]
     },
     "execution_count": 181,
     "metadata": {},
     "output_type": "execute_result"
    }
   ],
   "source": []
  },
  {
   "cell_type": "code",
   "execution_count": null,
   "metadata": {},
   "outputs": [],
   "source": []
  }
 ],
 "metadata": {
  "kernelspec": {
   "display_name": "Python 2",
   "language": "python",
   "name": "python2"
  },
  "language_info": {
   "codemirror_mode": {
    "name": "ipython",
    "version": 2
   },
   "file_extension": ".py",
   "mimetype": "text/x-python",
   "name": "python",
   "nbconvert_exporter": "python",
   "pygments_lexer": "ipython2",
   "version": "2.7.15"
  }
 },
 "nbformat": 4,
 "nbformat_minor": 2
}
